{
 "cells": [
  {
   "cell_type": "code",
   "execution_count": 1,
   "metadata": {},
   "outputs": [],
   "source": [
    "import tkinter as tk\n",
    "from tkinter import filedialog\n",
    "from tkinter import ttk \n",
    "import imageio\n",
    "import cv2\n",
    "import numpy as np\n",
    "from datetime import datetime, timedelta\n",
    "import os"
   ]
  },
  {
   "cell_type": "code",
   "execution_count": null,
   "metadata": {},
   "outputs": [],
   "source": []
  },
  {
   "cell_type": "code",
   "execution_count": 2,
   "metadata": {},
   "outputs": [],
   "source": [
    "def browse_fiji_stack():\n",
    "    global fiji_stack_path\n",
    "    fiji_stack_path = filedialog.askopenfilename(title=\"Select Fiji Stack\")\n",
    "    fiji_stack_entry.delete(0, tk.END)\n",
    "    fiji_stack_entry.insert(0, fiji_stack_path)\n",
    "\n",
    "def add_timestamp(image, start_time, fps, frame_index):\n",
    "    timestamp = (start_time + timedelta(seconds=frame_index / fps)).strftime(\"%H:%M:%S\")\n",
    "    image_with_timestamp = np.copy(image)\n",
    "    font = cv2.FONT_HERSHEY_SIMPLEX\n",
    "    cv2.putText(image_with_timestamp, timestamp, (10, 20), font, 0.5, (255, 255, 255), 1, cv2.LINE_AA)\n",
    "    return image_with_timestamp\n",
    "\n",
    "def process_stack():\n",
    "    fiji_stack_path = fiji_stack_entry.get()\n",
    "    fps = float(fps_entry.get())\n",
    "    stack = imageio.volread(fiji_stack_path)\n",
    "\n",
    "    parent_output_dir = 'Timestamped_Stacks/'\n",
    "    os.makedirs(parent_output_dir, exist_ok=True)\n",
    "    output_dir = os.path.join(parent_output_dir, os.path.splitext(os.path.basename(fiji_stack_path))[0])\n",
    "    os.makedirs(output_dir, exist_ok=True)\n",
    "\n",
    "    start_time = datetime.strptime(\"00:00:00\", \"%H:%M:%S\")\n",
    "\n",
    "    progress_bar[\"maximum\"] = len(stack)\n",
    "    timestamped_stack = []\n",
    "\n",
    "    for i, frame in enumerate(stack):\n",
    "        timestamped_frame = add_timestamp(frame, start_time, fps, i)\n",
    "        timestamped_stack.append(timestamped_frame)\n",
    "        progress_bar[\"value\"] = i + 1\n",
    "        root.update_idletasks()\n",
    "        progress_label.config(text = f\"Processing: {int((i+1)/len(stack)*100)}%\")\n",
    "    \n",
    "    output_stack_path = os.path.join(output_dir, f\"{os.path.splitext(os.path.basename(fiji_stack_path))[0]}_timestamped.tiff\")\n",
    "    imageio.mimwrite(output_stack_path, timestamped_stack, format= 'TIFF')\n",
    "    # Debug print\n",
    "    print(\"Output directory:\", output_dir)\n",
    "    os.startfile(parent_output_dir)\n",
    "\n",
    "    os.startfile(output_dir)\n",
    "\n",
    "def on_closing():\n",
    "    root.destroy()"
   ]
  },
  {
   "cell_type": "code",
   "execution_count": 4,
   "metadata": {},
   "outputs": [
    {
     "ename": "NameError",
     "evalue": "name 'fiji_stack_entry' is not defined",
     "output_type": "error",
     "traceback": [
      "\u001b[1;31m---------------------------------------------------------------------------\u001b[0m",
      "\u001b[1;31mNameError\u001b[0m                                 Traceback (most recent call last)",
      "Cell \u001b[1;32mIn[4], line 3\u001b[0m\n\u001b[0;32m      1\u001b[0m output_dir \u001b[38;5;241m=\u001b[39m \u001b[38;5;124m'\u001b[39m\u001b[38;5;124mTimestamped_Stacks/\u001b[39m\u001b[38;5;124m'\u001b[39m\n\u001b[0;32m      2\u001b[0m os\u001b[38;5;241m.\u001b[39mmakedirs(output_dir, exist_ok\u001b[38;5;241m=\u001b[39m\u001b[38;5;28;01mTrue\u001b[39;00m)\n\u001b[1;32m----> 3\u001b[0m fiji_stack_path \u001b[38;5;241m=\u001b[39m \u001b[43mfiji_stack_entry\u001b[49m\u001b[38;5;241m.\u001b[39mget()\n\u001b[0;32m      4\u001b[0m stack \u001b[38;5;241m=\u001b[39m imageio\u001b[38;5;241m.\u001b[39mvolread(fiji_stack_path)\n\u001b[0;32m      5\u001b[0m start_time \u001b[38;5;241m=\u001b[39m datetime\u001b[38;5;241m.\u001b[39mstrptime(\u001b[38;5;124m\"\u001b[39m\u001b[38;5;124m00:00:00\u001b[39m\u001b[38;5;124m\"\u001b[39m, \u001b[38;5;124m\"\u001b[39m\u001b[38;5;124m%\u001b[39m\u001b[38;5;124mH:\u001b[39m\u001b[38;5;124m%\u001b[39m\u001b[38;5;124mM:\u001b[39m\u001b[38;5;124m%\u001b[39m\u001b[38;5;124mS\u001b[39m\u001b[38;5;124m\"\u001b[39m)\n",
      "\u001b[1;31mNameError\u001b[0m: name 'fiji_stack_entry' is not defined"
     ]
    }
   ],
   "source": [
    "\n"
   ]
  },
  {
   "cell_type": "code",
   "execution_count": 6,
   "metadata": {},
   "outputs": [
    {
     "ename": "NameError",
     "evalue": "name 'parent_output_dir' is not defined",
     "output_type": "error",
     "traceback": [
      "\u001b[1;31m---------------------------------------------------------------------------\u001b[0m",
      "\u001b[1;31mNameError\u001b[0m                                 Traceback (most recent call last)",
      "Cell \u001b[1;32mIn[6], line 3\u001b[0m\n\u001b[0;32m      1\u001b[0m \u001b[38;5;66;03m#Save the timestamped frames as a single TIFF stack.\u001b[39;00m\n\u001b[1;32m----> 3\u001b[0m output_stack_path \u001b[38;5;241m=\u001b[39m os\u001b[38;5;241m.\u001b[39mpath\u001b[38;5;241m.\u001b[39mjoin(\u001b[43mparent_output_dir\u001b[49m, \u001b[38;5;124mf\u001b[39m\u001b[38;5;124m\"\u001b[39m\u001b[38;5;132;01m{\u001b[39;00mos\u001b[38;5;241m.\u001b[39mpath\u001b[38;5;241m.\u001b[39msplitext(os\u001b[38;5;241m.\u001b[39mpath\u001b[38;5;241m.\u001b[39mbasename(fiji_stack_path))[\u001b[38;5;241m0\u001b[39m]\u001b[38;5;132;01m}\u001b[39;00m\u001b[38;5;124m_timestamped.tiff\u001b[39m\u001b[38;5;124m\"\u001b[39m)\n\u001b[0;32m      4\u001b[0m imageio\u001b[38;5;241m.\u001b[39mmimwrite(output_stack_path, timestamped_stack, \u001b[38;5;28mformat\u001b[39m\u001b[38;5;241m=\u001b[39m\u001b[38;5;124m'\u001b[39m\u001b[38;5;124mTIFF\u001b[39m\u001b[38;5;124m'\u001b[39m)\n",
      "\u001b[1;31mNameError\u001b[0m: name 'parent_output_dir' is not defined"
     ]
    }
   ],
   "source": []
  },
  {
   "cell_type": "code",
   "execution_count": 12,
   "metadata": {},
   "outputs": [],
   "source": []
  },
  {
   "cell_type": "code",
   "execution_count": 3,
   "metadata": {},
   "outputs": [
    {
     "name": "stdout",
     "output_type": "stream",
     "text": [
      "Output directory: Timestamped_Stacks/i240527_Ct_Dila\n"
     ]
    },
    {
     "name": "stderr",
     "output_type": "stream",
     "text": [
      "Exception in Tkinter callback\n",
      "Traceback (most recent call last):\n",
      "  File \"c:\\Users\\bilge\\AppData\\Local\\Programs\\Python\\Python310\\lib\\tkinter\\__init__.py\", line 1921, in __call__\n",
      "    return self.func(*args)\n",
      "  File \"C:\\Users\\bilge\\AppData\\Local\\Temp\\ipykernel_19980\\2245195591.py\", line 40, in process_stack\n",
      "    os.startfile(parent_output_dir)\n",
      "FileNotFoundError: [WinError 2] The system cannot find the file specified: 'Timestamped_Stacks/'\n"
     ]
    },
    {
     "ename": "",
     "evalue": "",
     "output_type": "error",
     "traceback": [
      "\u001b[1;31mThe Kernel crashed while executing code in the current cell or a previous cell. \n",
      "\u001b[1;31mPlease review the code in the cell(s) to identify a possible cause of the failure. \n",
      "\u001b[1;31mClick <a href='https://aka.ms/vscodeJupyterKernelCrash'>here</a> for more info. \n",
      "\u001b[1;31mView Jupyter <a href='command:jupyter.viewOutput'>log</a> for further details."
     ]
    }
   ],
   "source": [
    "#Create GUI\n",
    "root = tk.Tk()\n",
    "root.title(\"Timestamp Fiji Stack\")\n",
    "\n",
    "fiji_stack_label = tk.Label(root, text=\"Fiji Stack Path:\")\n",
    "fiji_stack_label.grid(row=0, column=0)\n",
    "fiji_stack_entry = tk.Entry(root, width=50)\n",
    "fiji_stack_entry.grid(row=0, column=1)\n",
    "\n",
    "browse_button = tk.Button(root, text=\"Browse\", command=browse_fiji_stack)\n",
    "browse_button.grid(row=0, column=2)\n",
    "\n",
    "fps_label = tk.Label(root, text=\"Frames per Second(fps):\")\n",
    "fps_label.grid(row=1, column=0)\n",
    "fps_entry = tk.Entry(root)\n",
    "fps_entry.grid(row=1, column=1)\n",
    "\n",
    "process_button = tk.Button(root, text=\"Process Stack\", command =process_stack)\n",
    "process_button.grid(row=2, column=0, columnspan=3)\n",
    "\n",
    "custom_style = ttk.Style()\n",
    "custom_style.theme_use(\"default\")\n",
    "custom_style.configure(\"Custom.Horizontal.TProgressbar\", foreground=\"light pink\", background=\"light pink\")\n",
    "\n",
    "progress_bar = ttk.Progressbar(root, orient=\"horizontal\", length=200, mode=\"determinate\", style=\"Custom.Horizontal.TProgressbar\")\n",
    "progress_bar.grid(row=3, column=0, columnspan=3, pady=10)\n",
    "\n",
    "progress_label = tk.Label(root, text=\"\")\n",
    "progress_label.grid(row=4, column=0, columnspan=3)\n",
    "\n",
    "root.protocol(\"WM_DELETE_WINDOW\", on_closing)\n",
    "root.mainloop()"
   ]
  }
 ],
 "metadata": {
  "kernelspec": {
   "display_name": "Python 3",
   "language": "python",
   "name": "python3"
  },
  "language_info": {
   "codemirror_mode": {
    "name": "ipython",
    "version": 3
   },
   "file_extension": ".py",
   "mimetype": "text/x-python",
   "name": "python",
   "nbconvert_exporter": "python",
   "pygments_lexer": "ipython3",
   "version": "3.10.10"
  }
 },
 "nbformat": 4,
 "nbformat_minor": 2
}
